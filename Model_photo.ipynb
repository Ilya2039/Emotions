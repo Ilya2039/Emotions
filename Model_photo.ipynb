{
  "cells": [
    {
      "cell_type": "code",
      "execution_count": null,
      "metadata": {
        "id": "mKnB1KqCMDrC"
      },
      "outputs": [],
      "source": [
        "import numpy as np # linear algebra\n",
        "import pandas as pd # data processing, CSV file I/O (e.g. pd.read_csv)\n",
        "import os\n",
        "#for dirname, _, filenames in os.walk('/kaggle/input'):\n",
        "    #for filename in filenames:\n",
        "        #print(os.path.join(dirname, filename))\n",
        "import matplotlib.pyplot as plt\n",
        "import seaborn as sns\n",
        "import tensorflow as tf\n",
        "import keras\n",
        "from keras.preprocessing import image\n",
        "from keras.models import Sequential\n",
        "from keras.layers import Conv2D, MaxPool2D, Flatten,Dense,Dropout,BatchNormalization\n",
        "from tensorflow.keras.preprocessing.image import ImageDataGenerator\n",
        "import cv2\n",
        "from tensorflow.keras.applications import VGG16, InceptionResNetV2\n",
        "from keras import regularizers\n",
        "from tensorflow.keras.optimizers import Adam,RMSprop,SGD,Adamax\n",
        "from keras.layers import Dense\n",
        "from keras.losses import categorical_crossentropy\n",
        "from keras.losses import binary_crossentropy\n",
        "\n",
        "from tensorflow.keras.layers import Conv2D, MaxPooling2D\n",
        "from keras.regularizers import l2"
      ]
    },
    {
      "cell_type": "code",
      "execution_count": null,
      "metadata": {
        "colab": {
          "base_uri": "https://localhost:8080/"
        },
        "id": "5JMTVozkMkrw",
        "outputId": "ad8d7e72-2dba-4e01-a701-84116a2b0a16"
      },
      "outputs": [
        {
          "output_type": "stream",
          "name": "stdout",
          "text": [
            "Mounted at /content/drive/\n"
          ]
        }
      ],
      "source": [
        "from google.colab import drive\n",
        "drive.mount('/content/drive/')"
      ]
    },
    {
      "cell_type": "code",
      "execution_count": null,
      "metadata": {
        "id": "nxi1M3OhMDrD"
      },
      "outputs": [],
      "source": [
        "# train_dir = \"../input/emotion-detection-fer/train\" #passing the path with training images\n",
        "# test_dir = \"../input/emotion-detection-fer/test\"   #passing the path with testing images\n",
        "train_dir = \"/content/drive/MyDrive/train\"\n",
        "test_dir = \"/content/drive/MyDrive/test\""
      ]
    },
    {
      "cell_type": "code",
      "execution_count": null,
      "metadata": {
        "id": "1RbQ1RC0MDrD"
      },
      "outputs": [],
      "source": [
        "img_size = 48 #original size of the image"
      ]
    },
    {
      "cell_type": "code",
      "execution_count": null,
      "metadata": {
        "id": "JDDQFVXsMDrD"
      },
      "outputs": [],
      "source": [
        "\"\"\"\n",
        "Data Augmentation\n",
        "--------------------------\n",
        "rotation_range = rotates the image with the amount of degrees we provide\n",
        "width_shift_range = shifts the image randomly to the right or left along the width of the image\n",
        "height_shift range = shifts image randomly to up or below along the height of the image\n",
        "horizontal_flip = flips the image horizontally\n",
        "rescale = to scale down the pizel values in our image between 0 and 1\n",
        "zoom_range = applies random zoom to our object\n",
        "validation_split = reserves some images to be used for validation purpose\n",
        "\"\"\"\n",
        "\n",
        "train_datagen = ImageDataGenerator(width_shift_range = 0.1,\n",
        "                                         height_shift_range = 0.1,\n",
        "                                         horizontal_flip = True,\n",
        "                                         rescale = 1./255,\n",
        "                                         validation_split = 0.2\n",
        "                                        )\n",
        "validation_datagen = ImageDataGenerator(rescale = 1./255,\n",
        "                                         validation_split = 0.2)"
      ]
    },
    {
      "cell_type": "code",
      "execution_count": null,
      "metadata": {
        "colab": {
          "base_uri": "https://localhost:8080/"
        },
        "id": "Hv58B1w6MDrE",
        "outputId": "8f7f98c6-a319-4e47-dba3-e2830b103e31"
      },
      "outputs": [
        {
          "output_type": "stream",
          "name": "stdout",
          "text": [
            "Found 10343 images belonging to 3 classes.\n",
            "Found 796 images belonging to 3 classes.\n"
          ]
        }
      ],
      "source": [
        "\"\"\"\n",
        "Applying data augmentation to the images as we read \n",
        "them from their respectivve directories\n",
        "\"\"\"\n",
        "train_generator = train_datagen.flow_from_directory(directory = train_dir,\n",
        "                                                    target_size = (img_size,img_size),\n",
        "                                                    batch_size = 32,\n",
        "                                                    color_mode = \"grayscale\",\n",
        "                                                    class_mode = \"categorical\",\n",
        "                                                    subset = \"training\"\n",
        "                                                   )\n",
        "validation_generator = validation_datagen.flow_from_directory( directory = test_dir,\n",
        "                                                              target_size = (img_size,img_size),\n",
        "                                                              batch_size = 32,\n",
        "                                                              color_mode = \"grayscale\",\n",
        "                                                              class_mode = \"categorical\",\n",
        "                                                              subset = \"validation\"\n",
        "                                                             )"
      ]
    },
    {
      "cell_type": "code",
      "execution_count": null,
      "metadata": {
        "id": "rLrENxcyMDrF"
      },
      "outputs": [],
      "source": [
        "model= tf.keras.models.Sequential()\n",
        "model.add(Conv2D(32, kernel_size=(3, 3), padding='same', activation='relu', input_shape=(48, 48,1)))\n",
        "model.add(Conv2D(64,(3,3), padding='same', activation='relu' ))\n",
        "model.add(BatchNormalization())\n",
        "model.add(MaxPool2D(pool_size=(2, 2)))\n",
        "model.add(Dropout(0.25))\n",
        "\n",
        "model.add(Conv2D(128,(5,5), padding='same', activation='relu'))\n",
        "model.add(BatchNormalization())\n",
        "model.add(MaxPool2D(pool_size=(2, 2)))\n",
        "model.add(Dropout(0.25))\n",
        "    \n",
        "model.add(Conv2D(512,(3,3), padding='same', activation='relu', kernel_regularizer=regularizers.l2(0.01)))\n",
        "model.add(BatchNormalization())\n",
        "model.add(MaxPool2D(pool_size=(2, 2)))\n",
        "model.add(Dropout(0.25))\n",
        "\n",
        "model.add(Conv2D(512,(3,3), padding='same', activation='relu', kernel_regularizer=regularizers.l2(0.01)))\n",
        "model.add(BatchNormalization())\n",
        "model.add(MaxPool2D(pool_size=(2, 2)))\n",
        "model.add(Dropout(0.25))\n",
        "\n",
        "model.add(Flatten()) \n",
        "model.add(Dense(256,activation = 'relu'))\n",
        "model.add(BatchNormalization())\n",
        "model.add(Dropout(0.25))\n",
        "    \n",
        "model.add(Dense(512,activation = 'relu'))\n",
        "model.add(BatchNormalization())\n",
        "model.add(Dropout(0.25))\n",
        "\n",
        "model.add(Dense(3, activation='softmax')) \n",
        "\n",
        "model.compile(\n",
        "    optimizer = Adam(learning_rate=0.0001), loss='categorical_crossentropy', metrics=['accuracy']\n",
        "  )"
      ]
    },
    {
      "cell_type": "code",
      "execution_count": null,
      "metadata": {
        "id": "qZ22kjIQMDrF"
      },
      "outputs": [],
      "source": [
        "epochs = 48\n",
        "batch_size = 32"
      ]
    },
    {
      "cell_type": "code",
      "execution_count": null,
      "metadata": {
        "colab": {
          "base_uri": "https://localhost:8080/"
        },
        "id": "x42mtblnMDrF",
        "outputId": "a95944a3-ea95-4a46-f779-5a81e0e04780"
      },
      "outputs": [
        {
          "output_type": "stream",
          "name": "stdout",
          "text": [
            "Model: \"sequential_1\"\n",
            "_________________________________________________________________\n",
            " Layer (type)                Output Shape              Param #   \n",
            "=================================================================\n",
            " conv2d_5 (Conv2D)           (None, 48, 48, 32)        320       \n",
            "                                                                 \n",
            " conv2d_6 (Conv2D)           (None, 48, 48, 64)        18496     \n",
            "                                                                 \n",
            " batch_normalization_6 (Batc  (None, 48, 48, 64)       256       \n",
            " hNormalization)                                                 \n",
            "                                                                 \n",
            " max_pooling2d_4 (MaxPooling  (None, 24, 24, 64)       0         \n",
            " 2D)                                                             \n",
            "                                                                 \n",
            " dropout_6 (Dropout)         (None, 24, 24, 64)        0         \n",
            "                                                                 \n",
            " conv2d_7 (Conv2D)           (None, 24, 24, 128)       204928    \n",
            "                                                                 \n",
            " batch_normalization_7 (Batc  (None, 24, 24, 128)      512       \n",
            " hNormalization)                                                 \n",
            "                                                                 \n",
            " max_pooling2d_5 (MaxPooling  (None, 12, 12, 128)      0         \n",
            " 2D)                                                             \n",
            "                                                                 \n",
            " dropout_7 (Dropout)         (None, 12, 12, 128)       0         \n",
            "                                                                 \n",
            " conv2d_8 (Conv2D)           (None, 12, 12, 512)       590336    \n",
            "                                                                 \n",
            " batch_normalization_8 (Batc  (None, 12, 12, 512)      2048      \n",
            " hNormalization)                                                 \n",
            "                                                                 \n",
            " max_pooling2d_6 (MaxPooling  (None, 6, 6, 512)        0         \n",
            " 2D)                                                             \n",
            "                                                                 \n",
            " dropout_8 (Dropout)         (None, 6, 6, 512)         0         \n",
            "                                                                 \n",
            " conv2d_9 (Conv2D)           (None, 6, 6, 512)         2359808   \n",
            "                                                                 \n",
            " batch_normalization_9 (Batc  (None, 6, 6, 512)        2048      \n",
            " hNormalization)                                                 \n",
            "                                                                 \n",
            " max_pooling2d_7 (MaxPooling  (None, 3, 3, 512)        0         \n",
            " 2D)                                                             \n",
            "                                                                 \n",
            " dropout_9 (Dropout)         (None, 3, 3, 512)         0         \n",
            "                                                                 \n",
            " flatten_1 (Flatten)         (None, 4608)              0         \n",
            "                                                                 \n",
            " dense_3 (Dense)             (None, 256)               1179904   \n",
            "                                                                 \n",
            " batch_normalization_10 (Bat  (None, 256)              1024      \n",
            " chNormalization)                                                \n",
            "                                                                 \n",
            " dropout_10 (Dropout)        (None, 256)               0         \n",
            "                                                                 \n",
            " dense_4 (Dense)             (None, 512)               131584    \n",
            "                                                                 \n",
            " batch_normalization_11 (Bat  (None, 512)              2048      \n",
            " chNormalization)                                                \n",
            "                                                                 \n",
            " dropout_11 (Dropout)        (None, 512)               0         \n",
            "                                                                 \n",
            " dense_5 (Dense)             (None, 3)                 1539      \n",
            "                                                                 \n",
            "=================================================================\n",
            "Total params: 4,494,851\n",
            "Trainable params: 4,490,883\n",
            "Non-trainable params: 3,968\n",
            "_________________________________________________________________\n"
          ]
        }
      ],
      "source": [
        "model.summary()"
      ]
    },
    {
      "cell_type": "code",
      "execution_count": 15,
      "metadata": {
        "colab": {
          "base_uri": "https://localhost:8080/"
        },
        "id": "bPo_LjiXMDrG",
        "outputId": "888f92a5-07c3-49bf-e9ff-aa732c00f5d6"
      },
      "outputs": [
        {
          "output_type": "stream",
          "name": "stdout",
          "text": [
            "Epoch 1/48\n",
            "324/324 [==============================] - 1939s 6s/step - loss: 8.5162 - accuracy: 0.3612 - val_loss: 8.1254 - val_accuracy: 0.3003\n",
            "Epoch 2/48\n",
            "324/324 [==============================] - 72s 221ms/step - loss: 7.9203 - accuracy: 0.3760 - val_loss: 7.5040 - val_accuracy: 0.3518\n",
            "Epoch 3/48\n",
            "324/324 [==============================] - 75s 232ms/step - loss: 7.3221 - accuracy: 0.3749 - val_loss: 6.7755 - val_accuracy: 0.4472\n",
            "Epoch 4/48\n",
            "324/324 [==============================] - 70s 217ms/step - loss: 6.6611 - accuracy: 0.3973 - val_loss: 6.1420 - val_accuracy: 0.4611\n",
            "Epoch 5/48\n",
            "324/324 [==============================] - 70s 216ms/step - loss: 6.0015 - accuracy: 0.4023 - val_loss: 5.5010 - val_accuracy: 0.4724\n",
            "Epoch 6/48\n",
            "324/324 [==============================] - 70s 215ms/step - loss: 5.3393 - accuracy: 0.4097 - val_loss: 4.8627 - val_accuracy: 0.5101\n",
            "Epoch 7/48\n",
            "324/324 [==============================] - 66s 204ms/step - loss: 4.7327 - accuracy: 0.4155 - val_loss: 4.2829 - val_accuracy: 0.4837\n",
            "Epoch 8/48\n",
            "324/324 [==============================] - 65s 200ms/step - loss: 4.1602 - accuracy: 0.4317 - val_loss: 3.7116 - val_accuracy: 0.5327\n",
            "Epoch 9/48\n",
            "324/324 [==============================] - 65s 199ms/step - loss: 3.6492 - accuracy: 0.4449 - val_loss: 3.2751 - val_accuracy: 0.5389\n",
            "Epoch 10/48\n",
            "324/324 [==============================] - 65s 199ms/step - loss: 3.2194 - accuracy: 0.4536 - val_loss: 3.0183 - val_accuracy: 0.4925\n",
            "Epoch 11/48\n",
            "324/324 [==============================] - 64s 198ms/step - loss: 2.8341 - accuracy: 0.4816 - val_loss: 2.8471 - val_accuracy: 0.4334\n",
            "Epoch 12/48\n",
            "324/324 [==============================] - 64s 199ms/step - loss: 2.5188 - accuracy: 0.4994 - val_loss: 2.2792 - val_accuracy: 0.5867\n",
            "Epoch 13/48\n",
            "324/324 [==============================] - 65s 200ms/step - loss: 2.2630 - accuracy: 0.5228 - val_loss: 1.9876 - val_accuracy: 0.6055\n",
            "Epoch 14/48\n",
            "324/324 [==============================] - 66s 202ms/step - loss: 2.0387 - accuracy: 0.5378 - val_loss: 1.8355 - val_accuracy: 0.6281\n",
            "Epoch 15/48\n",
            "324/324 [==============================] - 66s 202ms/step - loss: 1.8580 - accuracy: 0.5577 - val_loss: 1.6536 - val_accuracy: 0.6269\n",
            "Epoch 16/48\n",
            "324/324 [==============================] - 65s 201ms/step - loss: 1.7035 - accuracy: 0.5810 - val_loss: 1.6057 - val_accuracy: 0.6369\n",
            "Epoch 17/48\n",
            "324/324 [==============================] - 64s 198ms/step - loss: 1.5575 - accuracy: 0.6050 - val_loss: 1.4304 - val_accuracy: 0.6671\n",
            "Epoch 18/48\n",
            "324/324 [==============================] - 64s 196ms/step - loss: 1.4628 - accuracy: 0.6153 - val_loss: 1.4620 - val_accuracy: 0.6332\n",
            "Epoch 19/48\n",
            "324/324 [==============================] - 64s 198ms/step - loss: 1.3823 - accuracy: 0.6329 - val_loss: 1.2755 - val_accuracy: 0.6834\n",
            "Epoch 20/48\n",
            "324/324 [==============================] - 63s 195ms/step - loss: 1.3222 - accuracy: 0.6488 - val_loss: 1.3424 - val_accuracy: 0.6495\n",
            "Epoch 21/48\n",
            "324/324 [==============================] - 63s 195ms/step - loss: 1.2576 - accuracy: 0.6633 - val_loss: 1.3492 - val_accuracy: 0.6269\n",
            "Epoch 22/48\n",
            "324/324 [==============================] - 64s 197ms/step - loss: 1.2055 - accuracy: 0.6781 - val_loss: 1.0944 - val_accuracy: 0.7374\n",
            "Epoch 23/48\n",
            "324/324 [==============================] - 64s 196ms/step - loss: 1.1684 - accuracy: 0.6864 - val_loss: 1.0780 - val_accuracy: 0.7362\n",
            "Epoch 24/48\n",
            "324/324 [==============================] - 64s 198ms/step - loss: 1.1288 - accuracy: 0.6882 - val_loss: 1.0505 - val_accuracy: 0.7513\n",
            "Epoch 25/48\n",
            "324/324 [==============================] - 63s 194ms/step - loss: 1.1098 - accuracy: 0.7003 - val_loss: 0.9812 - val_accuracy: 0.7764\n",
            "Epoch 26/48\n",
            "324/324 [==============================] - 64s 196ms/step - loss: 1.0798 - accuracy: 0.7139 - val_loss: 1.0213 - val_accuracy: 0.7362\n",
            "Epoch 27/48\n",
            "324/324 [==============================] - 62s 192ms/step - loss: 1.0506 - accuracy: 0.7185 - val_loss: 0.9362 - val_accuracy: 0.7739\n",
            "Epoch 28/48\n",
            "324/324 [==============================] - 59s 182ms/step - loss: 1.0239 - accuracy: 0.7238 - val_loss: 0.9470 - val_accuracy: 0.7525\n",
            "Epoch 29/48\n",
            "324/324 [==============================] - 60s 184ms/step - loss: 1.0132 - accuracy: 0.7213 - val_loss: 0.9202 - val_accuracy: 0.7701\n",
            "Epoch 30/48\n",
            "324/324 [==============================] - 59s 183ms/step - loss: 0.9951 - accuracy: 0.7292 - val_loss: 1.0031 - val_accuracy: 0.7349\n",
            "Epoch 31/48\n",
            "324/324 [==============================] - 59s 183ms/step - loss: 0.9959 - accuracy: 0.7298 - val_loss: 0.9900 - val_accuracy: 0.7387\n",
            "Epoch 32/48\n",
            "324/324 [==============================] - 59s 183ms/step - loss: 0.9705 - accuracy: 0.7400 - val_loss: 0.9118 - val_accuracy: 0.7613\n",
            "Epoch 33/48\n",
            "324/324 [==============================] - 59s 183ms/step - loss: 0.9584 - accuracy: 0.7426 - val_loss: 0.8795 - val_accuracy: 0.7776\n",
            "Epoch 34/48\n",
            "324/324 [==============================] - 60s 184ms/step - loss: 0.9449 - accuracy: 0.7457 - val_loss: 0.9487 - val_accuracy: 0.7261\n",
            "Epoch 35/48\n",
            "324/324 [==============================] - 59s 183ms/step - loss: 0.9421 - accuracy: 0.7430 - val_loss: 0.9696 - val_accuracy: 0.7475\n",
            "Epoch 36/48\n",
            "324/324 [==============================] - 59s 183ms/step - loss: 0.9278 - accuracy: 0.7530 - val_loss: 0.8417 - val_accuracy: 0.8040\n",
            "Epoch 37/48\n",
            "324/324 [==============================] - 59s 183ms/step - loss: 0.9207 - accuracy: 0.7603 - val_loss: 0.9390 - val_accuracy: 0.7299\n",
            "Epoch 38/48\n",
            "324/324 [==============================] - 59s 183ms/step - loss: 0.9270 - accuracy: 0.7568 - val_loss: 0.9853 - val_accuracy: 0.7563\n",
            "Epoch 39/48\n",
            "324/324 [==============================] - 59s 183ms/step - loss: 0.9138 - accuracy: 0.7591 - val_loss: 1.0133 - val_accuracy: 0.7437\n",
            "Epoch 40/48\n",
            "324/324 [==============================] - 60s 185ms/step - loss: 0.9082 - accuracy: 0.7618 - val_loss: 0.9811 - val_accuracy: 0.7312\n",
            "Epoch 41/48\n",
            "324/324 [==============================] - 59s 183ms/step - loss: 0.9005 - accuracy: 0.7636 - val_loss: 0.8227 - val_accuracy: 0.8078\n",
            "Epoch 42/48\n",
            "324/324 [==============================] - 59s 183ms/step - loss: 0.8861 - accuracy: 0.7658 - val_loss: 0.8275 - val_accuracy: 0.8078\n",
            "Epoch 43/48\n",
            "324/324 [==============================] - 59s 183ms/step - loss: 0.8795 - accuracy: 0.7753 - val_loss: 0.9579 - val_accuracy: 0.7450\n",
            "Epoch 44/48\n",
            "324/324 [==============================] - 59s 183ms/step - loss: 0.8928 - accuracy: 0.7721 - val_loss: 0.8211 - val_accuracy: 0.8379\n",
            "Epoch 45/48\n",
            "324/324 [==============================] - 59s 183ms/step - loss: 0.8781 - accuracy: 0.7755 - val_loss: 0.8317 - val_accuracy: 0.7990\n",
            "Epoch 46/48\n",
            "324/324 [==============================] - 59s 183ms/step - loss: 0.8679 - accuracy: 0.7776 - val_loss: 0.8303 - val_accuracy: 0.8003\n",
            "Epoch 47/48\n",
            "324/324 [==============================] - 59s 182ms/step - loss: 0.8657 - accuracy: 0.7837 - val_loss: 0.8591 - val_accuracy: 0.7952\n",
            "Epoch 48/48\n",
            "324/324 [==============================] - 59s 183ms/step - loss: 0.8695 - accuracy: 0.7811 - val_loss: 0.8642 - val_accuracy: 0.7864\n"
          ]
        }
      ],
      "source": [
        "training = model.fit(x = train_generator,epochs = epochs,validation_data = validation_generator)"
      ]
    },
    {
      "cell_type": "code",
      "execution_count": 18,
      "metadata": {
        "colab": {
          "base_uri": "https://localhost:8080/",
          "height": 410
        },
        "id": "p2fmV2QfMDrG",
        "outputId": "bd1b2b9d-969a-4eaa-e86e-06112da283a0"
      },
      "outputs": [
        {
          "output_type": "display_data",
          "data": {
            "text/plain": [
              "<Figure size 1200x400 with 2 Axes>"
            ],
            "image/png": "[encoded data removed]"
          },
          "metadata": {}
        }
      ],
      "source": [
        "fig , ax = plt.subplots(1,2)\n",
        "train_acc = training.history['accuracy']\n",
        "train_loss = training.history['loss']\n",
        "fig.set_size_inches(12,4)\n",
        "\n",
        "ax[0].plot(training.history['accuracy'])\n",
        "ax[0].plot(training.history['val_accuracy'])\n",
        "ax[0].set_title('Training Accuracy vs Validation Accuracy')\n",
        "ax[0].set_ylabel('Accuracy')\n",
        "ax[0].set_xlabel('Epoch')\n",
        "ax[0].legend(['Train', 'Validation'], loc='upper left')\n",
        "\n",
        "ax[1].plot(training.history['loss'])\n",
        "ax[1].plot(training.history['val_loss'])\n",
        "ax[1].set_title('Training Loss vs Validation Loss')\n",
        "ax[1].set_ylabel('Loss')\n",
        "ax[1].set_xlabel('Epoch')\n",
        "ax[1].legend(['Train', 'Validation'], loc='upper left')\n",
        "\n",
        "plt.show()"
      ]
    },
    {
      "cell_type": "code",
      "execution_count": null,
      "metadata": {
        "id": "QRRcyqAQMDrG"
      },
      "outputs": [],
      "source": [
        "model.save('model_optimal.h5')"
      ]
    },
    {
      "cell_type": "code",
      "execution_count": null,
      "metadata": {
        "id": "TDFvlfqdYfab"
      },
      "outputs": [],
      "source": [
        "model.save('/content/drive/MyDrive/model_happy.h5')"
      ]
    },
    {
      "cell_type": "code",
      "execution_count": null,
      "metadata": {
        "colab": {
          "base_uri": "https://localhost:8080/"
        },
        "id": "_VXSZxEgZPng",
        "outputId": "4768025d-2867-4ee8-dee4-cfd0bfadadf6"
      },
      "outputs": [
        {
          "name": "stdout",
          "output_type": "stream",
          "text": [
            "1/1 [==============================] - 0s 28ms/step\n",
            "[1.0, 0.0, 0.0]\n"
          ]
        }
      ],
      "source": [
        "img = tf.keras.utils.load_img(\"no.jpg\",target_size = (48,48),color_mode = \"grayscale\")\n",
        "img = np.array(img)\n",
        "img = np.expand_dims(img,axis = 0) #makes image shape (1,48,48)\n",
        "img = img.reshape(1,48,48,1)\n",
        "result = model.predict(img)\n",
        "result = list(result[0])\n",
        "print(result)"
      ]
    },
    {
      "cell_type": "code",
      "execution_count": null,
      "metadata": {
        "colab": {
          "base_uri": "https://localhost:8080/"
        },
        "id": "y7f3f2B6aYS0",
        "outputId": "182d9239-3350-436b-c1d7-daa20a4987b1"
      },
      "outputs": [
        {
          "name": "stdout",
          "output_type": "stream",
          "text": [
            "Angry\n"
          ]
        }
      ],
      "source": [
        "label_dict = {0:'Angry',1:'Happy',2:'Sad'}\n",
        "img_index = result.index(max(result))\n",
        "print(label_dict[img_index])"
      ]
    },
    {
      "cell_type": "code",
      "execution_count": null,
      "metadata": {
        "colab": {
          "base_uri": "https://localhost:8080/"
        },
        "id": "IPoSTAkQY8sT",
        "outputId": "1ff62878-ff28-4b37-ad7b-206de6266faf"
      },
      "outputs": [
        {
          "data": {
            "text/plain": [
              "<keras.callbacks.History at 0x7f02bc6a4910>"
            ]
          },
          "execution_count": 12,
          "metadata": {},
          "output_type": "execute_result"
        }
      ],
      "source": [
        "history"
      ]
    },
    {
      "cell_type": "code",
      "execution_count": null,
      "metadata": {
        "colab": {
          "base_uri": "https://localhost:8080/",
          "height": 347
        },
        "id": "CjAgfQpeMDrH",
        "outputId": "84e79c08-2d2c-4fd0-a0b0-31891a297f26"
      },
      "outputs": [
        {
          "ename": "FileNotFoundError",
          "evalue": "ignored",
          "output_type": "error",
          "traceback": [
            "\u001b[0;31m---------------------------------------------------------------------------\u001b[0m",
            "\u001b[0;31mFileNotFoundError\u001b[0m                         Traceback (most recent call last)",
            "\u001b[0;32m<ipython-input-21-3b04893f770a>\u001b[0m in \u001b[0;36m<cell line: 1>\u001b[0;34m()\u001b[0m\n\u001b[0;32m----> 1\u001b[0;31m \u001b[0mimg\u001b[0m \u001b[0;34m=\u001b[0m \u001b[0mtf\u001b[0m\u001b[0;34m.\u001b[0m\u001b[0mkeras\u001b[0m\u001b[0;34m.\u001b[0m\u001b[0mutils\u001b[0m\u001b[0;34m.\u001b[0m\u001b[0mload_img\u001b[0m\u001b[0;34m(\u001b[0m\u001b[0;34m\"/content/drive/MyDrive/test/PrivateTest_2626531.jpg\"\u001b[0m\u001b[0;34m,\u001b[0m\u001b[0mtarget_size\u001b[0m \u001b[0;34m=\u001b[0m \u001b[0;34m(\u001b[0m\u001b[0;36m48\u001b[0m\u001b[0;34m,\u001b[0m\u001b[0;36m48\u001b[0m\u001b[0;34m)\u001b[0m\u001b[0;34m,\u001b[0m\u001b[0mcolor_mode\u001b[0m \u001b[0;34m=\u001b[0m \u001b[0;34m\"grayscale\"\u001b[0m\u001b[0;34m)\u001b[0m\u001b[0;34m\u001b[0m\u001b[0;34m\u001b[0m\u001b[0m\n\u001b[0m\u001b[1;32m      2\u001b[0m \u001b[0mimg\u001b[0m \u001b[0;34m=\u001b[0m \u001b[0mnp\u001b[0m\u001b[0;34m.\u001b[0m\u001b[0marray\u001b[0m\u001b[0;34m(\u001b[0m\u001b[0mimg\u001b[0m\u001b[0;34m)\u001b[0m\u001b[0;34m\u001b[0m\u001b[0;34m\u001b[0m\u001b[0m\n\u001b[1;32m      3\u001b[0m \u001b[0mplt\u001b[0m\u001b[0;34m.\u001b[0m\u001b[0mimshow\u001b[0m\u001b[0;34m(\u001b[0m\u001b[0mimg\u001b[0m\u001b[0;34m)\u001b[0m\u001b[0;34m\u001b[0m\u001b[0;34m\u001b[0m\u001b[0m\n\u001b[1;32m      4\u001b[0m \u001b[0mprint\u001b[0m\u001b[0;34m(\u001b[0m\u001b[0mimg\u001b[0m\u001b[0;34m.\u001b[0m\u001b[0mshape\u001b[0m\u001b[0;34m)\u001b[0m \u001b[0;31m#prints (48,48) that is the shape of our image\u001b[0m\u001b[0;34m\u001b[0m\u001b[0;34m\u001b[0m\u001b[0m\n",
            "\u001b[0;32m/usr/local/lib/python3.10/dist-packages/keras/utils/image_utils.py\u001b[0m in \u001b[0;36mload_img\u001b[0;34m(path, grayscale, color_mode, target_size, interpolation, keep_aspect_ratio)\u001b[0m\n\u001b[1;32m    420\u001b[0m         \u001b[0;32mif\u001b[0m \u001b[0misinstance\u001b[0m\u001b[0;34m(\u001b[0m\u001b[0mpath\u001b[0m\u001b[0;34m,\u001b[0m \u001b[0mpathlib\u001b[0m\u001b[0;34m.\u001b[0m\u001b[0mPath\u001b[0m\u001b[0;34m)\u001b[0m\u001b[0;34m:\u001b[0m\u001b[0;34m\u001b[0m\u001b[0;34m\u001b[0m\u001b[0m\n\u001b[1;32m    421\u001b[0m             \u001b[0mpath\u001b[0m \u001b[0;34m=\u001b[0m \u001b[0mstr\u001b[0m\u001b[0;34m(\u001b[0m\u001b[0mpath\u001b[0m\u001b[0;34m.\u001b[0m\u001b[0mresolve\u001b[0m\u001b[0;34m(\u001b[0m\u001b[0;34m)\u001b[0m\u001b[0;34m)\u001b[0m\u001b[0;34m\u001b[0m\u001b[0;34m\u001b[0m\u001b[0m\n\u001b[0;32m--> 422\u001b[0;31m         \u001b[0;32mwith\u001b[0m \u001b[0mopen\u001b[0m\u001b[0;34m(\u001b[0m\u001b[0mpath\u001b[0m\u001b[0;34m,\u001b[0m \u001b[0;34m\"rb\"\u001b[0m\u001b[0;34m)\u001b[0m \u001b[0;32mas\u001b[0m \u001b[0mf\u001b[0m\u001b[0;34m:\u001b[0m\u001b[0;34m\u001b[0m\u001b[0;34m\u001b[0m\u001b[0m\n\u001b[0m\u001b[1;32m    423\u001b[0m             \u001b[0mimg\u001b[0m \u001b[0;34m=\u001b[0m \u001b[0mpil_image\u001b[0m\u001b[0;34m.\u001b[0m\u001b[0mopen\u001b[0m\u001b[0;34m(\u001b[0m\u001b[0mio\u001b[0m\u001b[0;34m.\u001b[0m\u001b[0mBytesIO\u001b[0m\u001b[0;34m(\u001b[0m\u001b[0mf\u001b[0m\u001b[0;34m.\u001b[0m\u001b[0mread\u001b[0m\u001b[0;34m(\u001b[0m\u001b[0;34m)\u001b[0m\u001b[0;34m)\u001b[0m\u001b[0;34m)\u001b[0m\u001b[0;34m\u001b[0m\u001b[0;34m\u001b[0m\u001b[0m\n\u001b[1;32m    424\u001b[0m     \u001b[0;32melse\u001b[0m\u001b[0;34m:\u001b[0m\u001b[0;34m\u001b[0m\u001b[0;34m\u001b[0m\u001b[0m\n",
            "\u001b[0;31mFileNotFoundError\u001b[0m: [Errno 2] No such file or directory: '/content/drive/MyDrive/test/PrivateTest_2626531.jpg'"
          ]
        }
      ],
      "source": [
        "img = tf.keras.utils.load_img(\"/content/drive/MyDrive/test/PrivateTest_2626531.jpg\",target_size = (48,48),color_mode = \"grayscale\")\n",
        "img = np.array(img)\n",
        "plt.imshow(img)\n",
        "print(img.shape) #prints (48,48) that is the shape of our image"
      ]
    },
    {
      "cell_type": "code",
      "execution_count": null,
      "metadata": {
        "id": "_kDTSsbFMDrH"
      },
      "outputs": [],
      "source": [
        "label_dict = {0:'Angry',1:'Disgust',2:'Fear',3:'Happy',4:'Neutral',5:'Sad',6:'Surprise'}"
      ]
    },
    {
      "cell_type": "code",
      "execution_count": null,
      "metadata": {
        "id": "7iGisAd7MDrH",
        "outputId": "e73ce3fc-bb98-4d7a-b3df-7bbed744238d"
      },
      "outputs": [
        {
          "name": "stdout",
          "output_type": "stream",
          "text": [
            "[3.9386793e-23, 0.0, 3.136921e-15, 0.9999962, 0.0, 0.0, 3.8061755e-06]\n"
          ]
        }
      ],
      "source": [
        "img = np.expand_dims(img,axis = 0) #makes image shape (1,48,48)\n",
        "img = img.reshape(1,48,48,1)\n",
        "result = model.predict(img)\n",
        "result = list(result[0])\n",
        "print(result)"
      ]
    },
    {
      "cell_type": "code",
      "execution_count": null,
      "metadata": {
        "id": "IcfFA2XUMDrH",
        "outputId": "5012a830-ae28-482d-9a71-8c9f23179c51"
      },
      "outputs": [
        {
          "name": "stdout",
          "output_type": "stream",
          "text": [
            "Happy\n"
          ]
        }
      ],
      "source": [
        "img_index = result.index(max(result))\n",
        "print(label_dict[img_index])\n",
        "plt.show()"
      ]
    },
    {
      "cell_type": "code",
      "execution_count": null,
      "metadata": {
        "colab": {
          "base_uri": "https://localhost:8080/"
        },
        "id": "oFbOo0WpMDrH",
        "outputId": "7f59c52f-bd3b-476d-baef-096a4eaaf19a"
      },
      "outputs": [
        {
          "name": "stdout",
          "output_type": "stream",
          "text": [
            "324/324 [==============================] - 24s 73ms/step - loss: 0.7633 - accuracy: 0.8411\n",
            "25/25 [==============================] - 2s 61ms/step - loss: 0.8713 - accuracy: 0.7889\n",
            "final train accuracy = 84.11 , validation accuracy = 78.89\n"
          ]
        }
      ],
      "source": [
        "train_loss, train_acc = model.evaluate(train_generator)\n",
        "test_loss, test_acc   = model.evaluate(validation_generator)\n",
        "print(\"final train accuracy = {:.2f} , validation accuracy = {:.2f}\".format(train_acc*100, test_acc*100))"
      ]
    },
    {
      "cell_type": "code",
      "execution_count": null,
      "metadata": {
        "id": "SffTmMsDMDrH"
      },
      "outputs": [],
      "source": [
        "model.save_weights('model_weights.h5')"
      ]
    },
    {
      "cell_type": "code",
      "execution_count": null,
      "metadata": {
        "id": "CCPY9ivEMDrH"
      },
      "outputs": [],
      "source": []
    }
  ],
  "metadata": {
    "accelerator": "TPU",
    "colab": {
      "machine_shape": "hm",
      "provenance": []
    },
    "gpuClass": "standard",
    "kernelspec": {
      "display_name": "Python 3",
      "language": "python",
      "name": "python3"
    },
    "language_info": {
      "codemirror_mode": {
        "name": "ipython",
        "version": 3
      },
      "file_extension": ".py",
      "mimetype": "text/x-python",
      "name": "python",
      "nbconvert_exporter": "python",
      "pygments_lexer": "ipython3",
      "version": "3.7.9"
    }
  },
  "nbformat": 4,
  "nbformat_minor": 0
}